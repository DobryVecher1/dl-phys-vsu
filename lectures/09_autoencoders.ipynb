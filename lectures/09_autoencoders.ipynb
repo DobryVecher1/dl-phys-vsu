{
  "nbformat": 4,
  "nbformat_minor": 0,
  "metadata": {
    "colab": {
      "provenance": [],
      "gpuType": "T4",
      "authorship_tag": "ABX9TyObWxcL4i0pIsI4YsGZpvIV",
      "include_colab_link": true
    },
    "kernelspec": {
      "name": "python3",
      "display_name": "Python 3"
    },
    "language_info": {
      "name": "python"
    },
    "accelerator": "GPU"
  },
  "cells": [
    {
      "cell_type": "markdown",
      "metadata": {
        "id": "view-in-github",
        "colab_type": "text"
      },
      "source": [
        "<a href=\"https://colab.research.google.com/github/DobryVecher1/dl-phys-vsu/blob/main/lectures/08_autoencoders.ipynb\" target=\"_parent\"><img src=\"https://colab.research.google.com/assets/colab-badge.svg\" alt=\"Open In Colab\"/></a>"
      ]
    },
    {
      "cell_type": "code",
      "execution_count": null,
      "metadata": {
        "id": "f_A9GG6wxM6n"
      },
      "outputs": [],
      "source": [
        "!pip install torchmetrics"
      ]
    },
    {
      "cell_type": "code",
      "source": [
        "import numpy as np\n",
        "import matplotlib.pyplot as plt\n",
        "import tensorflow as tf\n",
        "import torch\n",
        "from torch.utils.data.dataset import Dataset\n",
        "from torchvision import transforms\n",
        "from torch.utils.data import DataLoader\n",
        "import torch.nn as nn\n",
        "import torchmetrics\n",
        "from sklearn.datasets import fetch_openml\n",
        "from sklearn.model_selection import train_test_split"
      ],
      "metadata": {
        "id": "ycUMNVoT72u5"
      },
      "execution_count": 2,
      "outputs": []
    },
    {
      "cell_type": "code",
      "source": [
        "class DatasetCIFAR(Dataset):\n",
        "\n",
        "    def __init__(self, x_data, y_data, transform=None):\n",
        "        self.x_data = x_data\n",
        "        self.y_data = y_data\n",
        "        self.transform = transform\n",
        "\n",
        "    def __getitem__(self, index):\n",
        "        \"\"\"Load and return a sample from the dataset at the given index.\"\"\"\n",
        "        img = self.x_data[index]\n",
        "\n",
        "        # augmentations\n",
        "        if self.transform is not None:\n",
        "            img = self.transform(img)\n",
        "\n",
        "        label = torch.from_numpy(self.y_data[index])\n",
        "\n",
        "        return img, label\n",
        "\n",
        "    def __len__(self):\n",
        "        \"\"\"Return the number of samples in dataset.\"\"\"\n",
        "        return len(self.x_data)"
      ],
      "metadata": {
        "id": "dqNV0jD_8Xy9"
      },
      "execution_count": 3,
      "outputs": []
    },
    {
      "cell_type": "code",
      "source": [
        "class DatamoduleCIFAR():\n",
        "    \"\"\"Create dataset and loaders, apply transforms.\"\"\"\n",
        "\n",
        "    def __init__(self):\n",
        "        # load data\n",
        "        (self.x_train, self.y_train), (self.x_val, self.y_val) = tf.keras.datasets.cifar10.load_data()\n",
        "\n",
        "        # make dataset smaller if needed\n",
        "        # self.x_train = self.x_train[:1000]\n",
        "        # self.y_train = self.y_train[:1000]\n",
        "        # self.x_val = self.x_val[:1000]\n",
        "        # self.y_val = self.y_val[:1000]\n",
        "\n",
        "\n",
        "    def create_loaders(self):\n",
        "        \"\"\"Create loaders both for train and test/validation datasets.\"\"\"\n",
        "\n",
        "        # train dataset\n",
        "        dset_train = DatasetCIFAR(self.x_train, self.y_train, transform=transforms.ToTensor())\n",
        "        # val dataset\n",
        "        dset_val = DatasetCIFAR(self.x_val, self.y_val, transform=transforms.ToTensor())\n",
        "\n",
        "        # Train and val dataloaders\n",
        "        train_loader = DataLoader(dset_train, batch_size=100, shuffle=True)\n",
        "        val_loader = DataLoader(dset_val, batch_size=100, shuffle=False)\n",
        "\n",
        "        return train_loader, val_loader"
      ],
      "metadata": {
        "id": "Db6HjnoS8rQT"
      },
      "execution_count": 4,
      "outputs": []
    },
    {
      "cell_type": "code",
      "source": [
        "class Autoencoder(nn.Module):\n",
        "\n",
        "    def __init__(self):\n",
        "        super().__init__()\n",
        "\n",
        "        # FC Autoencoder\n",
        "        # self.encoder = nn.Sequential(\n",
        "        #     nn.Flatten(),\n",
        "        #     nn.Linear(in_features=3072, out_features=512),\n",
        "        #     nn.ReLU(),\n",
        "        #     nn.Linear(in_features=512, out_features=128),\n",
        "        #     nn.ReLU(),\n",
        "        # )\n",
        "\n",
        "        # self.decoder = nn.Sequential(\n",
        "        #     nn.Linear(in_features=128, out_features=512),\n",
        "        #     nn.ReLU(),\n",
        "        #     nn.Linear(in_features=512, out_features=3072),\n",
        "        #     nn.Sigmoid(),\n",
        "        #     nn.Unflatten(1, (3, 32, 32))\n",
        "        # )\n",
        "\n",
        "        # Conv Autoencoder\n",
        "        self.encoder = nn.Sequential(\n",
        "            nn.Conv2d(in_channels=3, out_channels=8, kernel_size=3, padding='same'),\n",
        "            nn.ReLU(),\n",
        "            nn.MaxPool2d(kernel_size=2),\n",
        "\n",
        "            nn.Conv2d(in_channels=8, out_channels=4, kernel_size=3, padding='same'),\n",
        "            nn.ReLU(),\n",
        "            nn.MaxPool2d(kernel_size=2),\n",
        "\n",
        "        )\n",
        "\n",
        "        self.decoder = nn.Sequential(\n",
        "\n",
        "            nn.Conv2d(in_channels=4, out_channels=8, kernel_size=3, padding='same'),\n",
        "            nn.ReLU(),\n",
        "            nn.Upsample(scale_factor=2, mode='nearest'),\n",
        "\n",
        "            nn.Conv2d(in_channels=8, out_channels=3, kernel_size=3, padding='same'),\n",
        "            nn.ReLU(),\n",
        "            nn.Upsample(scale_factor=2, mode='nearest')\n",
        "        )\n",
        "\n",
        "    def forward(self, x):\n",
        "        x = self.encoder(x)\n",
        "        x = self.decoder(x)\n",
        "\n",
        "        return x\n"
      ],
      "metadata": {
        "id": "rK2GhM-l9pL0"
      },
      "execution_count": 5,
      "outputs": []
    },
    {
      "cell_type": "code",
      "source": [
        "class ModelCIFAR():\n",
        "\n",
        "    def __init__(self):\n",
        "\n",
        "        self.autoencoder = Autoencoder().cuda()\n",
        "        self.loss_mse = nn.MSELoss()\n",
        "        self.optimizer = torch.optim.AdamW(self.autoencoder.parameters(), lr=1e-3)\n",
        "\n",
        "\n",
        "    def fit(self, train_loader, val_loader, num_epoch=50):\n",
        "\n",
        "        for ii in range(num_epoch):\n",
        "\n",
        "            loss_batches = []\n",
        "            # train\n",
        "            for step, (images, labels) in enumerate(train_loader):\n",
        "                # to cuda\n",
        "                images = images.cuda()\n",
        "\n",
        "                self.autoencoder.train()\n",
        "                # make prediction\n",
        "                img_out = self.autoencoder(images)\n",
        "\n",
        "                # loss\n",
        "                loss = self.loss_mse(images, img_out)\n",
        "\n",
        "                # update weights\n",
        "                self.optimizer.zero_grad()\n",
        "                loss.backward()\n",
        "                self.optimizer.step()\n",
        "\n",
        "                # save loss\n",
        "                loss_batches.append(loss.item())\n",
        "\n",
        "            print(f\"Epoch: {ii}\")\n",
        "            print(f\"TRAIN | Loss: {np.mean(loss_batches): .4f}\")\n",
        "\n",
        "            # val\n",
        "            with torch.no_grad():\n",
        "                loss_batches_val = []\n",
        "                for step, (images, labels) in enumerate(val_loader):\n",
        "\n",
        "                    images = images.cuda()\n",
        "\n",
        "                    self.autoencoder.eval()\n",
        "                    img_out = self.autoencoder(images)\n",
        "\n",
        "                    loss = self.loss_mse(images, img_out)\n",
        "\n",
        "                    # save loss\n",
        "                    loss_batches_val.append(loss.item())\n",
        "\n",
        "                print(f\"val | Loss: {np.mean(loss_batches_val): .3f}\")\n",
        "\n",
        "\n",
        "    def predict(self, val_loader):\n",
        "\n",
        "        with torch.no_grad():\n",
        "            for step, (images, labels) in enumerate(val_loader):\n",
        "\n",
        "                images = images.cuda()\n",
        "\n",
        "                self.autoencoder.eval()\n",
        "                img_out = self.autoencoder(images)\n",
        "\n",
        "                break\n",
        "\n",
        "            return images.cpu(), img_out.cpu()\n",
        "\n"
      ],
      "metadata": {
        "id": "Vn1f6-Qj8rWT"
      },
      "execution_count": 6,
      "outputs": []
    },
    {
      "cell_type": "code",
      "source": [
        "model = ModelCIFAR()\n",
        "\n",
        "train_loader, val_loader = DatamoduleCIFAR().create_loaders()\n",
        "\n",
        "model.fit(train_loader, val_loader, num_epoch=50)"
      ],
      "metadata": {
        "id": "QMgnlRSfBB9j"
      },
      "execution_count": null,
      "outputs": []
    },
    {
      "cell_type": "code",
      "source": [
        "img_orig, img_out = model.predict(val_loader)"
      ],
      "metadata": {
        "id": "I-NskulpBldC"
      },
      "execution_count": 8,
      "outputs": []
    },
    {
      "cell_type": "code",
      "source": [
        "def plot_img(img_orig, img_out, num_img=5):\n",
        "\n",
        "    fig, ax = plt.subplots(2, num_img, figsize=(10, 5))\n",
        "\n",
        "    for ii in range(num_img):\n",
        "        ax[0, ii].imshow(img_orig.permute(0, 2, 3, 1)[ii, :, :, :])\n",
        "        ax[1, ii].imshow(img_out.permute(0, 2, 3, 1)[ii, :, :, :])"
      ],
      "metadata": {
        "id": "xGfaesQTDCy3"
      },
      "execution_count": 9,
      "outputs": []
    },
    {
      "cell_type": "code",
      "source": [
        "plot_img(img_orig, img_out, num_img=5)"
      ],
      "metadata": {
        "id": "ljz7e4cNDdzJ"
      },
      "execution_count": null,
      "outputs": []
    },
    {
      "cell_type": "code",
      "source": [],
      "metadata": {
        "id": "09-5pUhjDjPy"
      },
      "execution_count": null,
      "outputs": []
    }
  ]
}