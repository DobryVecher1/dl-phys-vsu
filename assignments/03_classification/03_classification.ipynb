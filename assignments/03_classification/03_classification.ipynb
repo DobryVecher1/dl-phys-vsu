{
  "nbformat": 4,
  "nbformat_minor": 0,
  "metadata": {
    "colab": {
      "provenance": [],
      "authorship_tag": "ABX9TyPZMv3ShIUCeszjOexEX7i5",
      "include_colab_link": true
    },
    "kernelspec": {
      "name": "python3",
      "display_name": "Python 3"
    },
    "language_info": {
      "name": "python"
    }
  },
  "cells": [
    {
      "cell_type": "markdown",
      "metadata": {
        "id": "view-in-github",
        "colab_type": "text"
      },
      "source": [
        "<a href=\"https://colab.research.google.com/github/DobryVecher1/dl-phys-vsu/blob/main/assignments/03_classification/03_classification.ipynb\" target=\"_parent\"><img src=\"https://colab.research.google.com/assets/colab-badge.svg\" alt=\"Open In Colab\"/></a>"
      ]
    },
    {
      "cell_type": "markdown",
      "source": [
        "# Мультиклассовая классификация с использованием Pytorch\n",
        "\n",
        "В этом задании вам предстоит решить задачу классификации используя фреймворк Pytorch. Необходимо выбрать **один из предлагаемых датасетов**:\n",
        "\n",
        "- Распознавание жестов [[Homepage](https://www.kaggle.com/datasets/ayuraj/asl-dataset)]\n",
        "- Классификация изображений медуз [[Homepage](https://www.kaggle.com/datasets/anshtanwar/jellyfish-types)]\n",
        "\n",
        "*Ссылки на скачивание датасетов вы сможете найти на странице задания в системе Moodle*.\n",
        "\n",
        "В папке помимо картинок вы найдете `.csv` файлы, в которых хранится информация о разбиении данных на тренировочную и валидационную части, а также метки класса, к которому изображения принадлежат.\n",
        "\n",
        "Вам необходимо реализовать полный цикл обучения, начиная с подготовки и загрузки данных, заканчивая созданием модели сверточной нейронной сети.\n",
        "\n",
        "**В ноутбуке вам необходимо**:\n",
        "- Отобразить 2-3 картинки из датасета и подписать соответствующий ей класс\n",
        "- Создать Dataloaders\n",
        "- Собрать модель сверточной нейронной сети (ограничений по архитектуре нет)\n",
        "- На каждой эпохе выводить значения тренировочного и валидационного **лосса**, а также **метрик** (будем использовать Accuracy и AUC-ROC; пользоваться готовыми реализациями метрик можно).\n",
        "- В конце построить график зависимости лосса и метрик от номера эпохи."
      ],
      "metadata": {
        "id": "UkQNrHcpoHIi"
      }
    },
    {
      "cell_type": "code",
      "execution_count": null,
      "metadata": {
        "id": "BiYOgIownqc4"
      },
      "outputs": [],
      "source": [
        "# YOUR CODE HERE"
      ]
    },
    {
      "cell_type": "markdown",
      "source": [
        "## **Перед отправкой сохраните ноутбук с именем в следующем формате: 03_Фамилия.ipynb**"
      ],
      "metadata": {
        "id": "9KGpO3Mm1Z5I"
      }
    },
    {
      "cell_type": "code",
      "source": [],
      "metadata": {
        "id": "RoSvCysz1bEE"
      },
      "execution_count": null,
      "outputs": []
    }
  ]
}